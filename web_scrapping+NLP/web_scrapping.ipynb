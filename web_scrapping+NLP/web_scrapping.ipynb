{
 "cells": [
  {
   "attachments": {},
   "cell_type": "markdown",
   "metadata": {},
   "source": [
    "## Web Scrapping"
   ]
  },
  {
   "cell_type": "code",
   "execution_count": 1,
   "metadata": {},
   "outputs": [],
   "source": [
    "from bs4 import BeautifulSoup\n",
    "import requests\n",
    "import pandas as pd\n",
    "\n",
    "data_com = []"
   ]
  },
  {
   "attachments": {},
   "cell_type": "markdown",
   "metadata": {},
   "source": [
    "### Récupération du numéro allociné d'un film"
   ]
  },
  {
   "cell_type": "code",
   "execution_count": 47,
   "metadata": {},
   "outputs": [],
   "source": [
    "def num_film_allocine(titre_film):\n",
    "    \"\"\"permet de trouver le numéro d'un film à partir de son titre\"\"\"\n",
    "    boolean = True\n",
    "    i = 0\n",
    "    while boolean:\n",
    "        url = f'''https://www.allocine.fr/film/fichefilm_gen_cfilm={i}.html'''\n",
    "        response = requests.get(url)\n",
    "        soup = BeautifulSoup(response.text,'html.parser')\n",
    "\n",
    "        links = soup.findAll(\"div\", {\"class\": \"titlebar titlebar-page\"})              \n",
    "\n",
    "        for link in links:  \n",
    "            title = link.find(\"div\", {'class':\"titlebar-title-lg\"}).text\n",
    "            if str(title.lower()) == titre_film.lower():  \n",
    "                boolean = False              \n",
    "                return i\n",
    "        i += 1 "
   ]
  },
  {
   "cell_type": "code",
   "execution_count": 48,
   "metadata": {},
   "outputs": [
    {
     "data": {
      "text/plain": [
       "21"
      ]
     },
     "execution_count": 48,
     "metadata": {},
     "output_type": "execute_result"
    }
   ],
   "source": [
    "num_film_allocine('Le Garçon aux cheveux verts')"
   ]
  },
  {
   "attachments": {},
   "cell_type": "markdown",
   "metadata": {},
   "source": [
    "### Web scraping des films Sonic & Inception"
   ]
  },
  {
   "cell_type": "code",
   "execution_count": 13,
   "metadata": {},
   "outputs": [],
   "source": [
    "def web_scrapping(num_film, note = 5):  \n",
    "    \"\"\"recueil tous les commentaires d'un film à partir de son numéro\"\"\"\n",
    "    commentaires= []\n",
    "    i = 1\n",
    "\n",
    "    #la boucle se stoppe quand une span particulière est détecté sur une page de commentaire\n",
    "    while True:\n",
    "        url = f'''https://www.allocine.fr/film/fichefilm-{num_film}/critiques/spectateurs/?page={i}'''\n",
    "        response = requests.get(url)\n",
    "        soup = BeautifulSoup(response.text,'html.parser')\n",
    "\n",
    "        links=soup.findAll('div', {\"class\": \"hred review-card cf\"})\n",
    "\n",
    "        i += 1\n",
    "        \n",
    "        for link in links: \n",
    "            new_com = {}\n",
    "            new_com['note'] = link.find(\"span\", {'class':\"stareval-note\"}).text.replace(',', '.')\n",
    "            new_com['commentaire'] = link.find(\"div\", {'class':\"content-txt review-card-content\"}).text.replace('\"', '').replace(\"\\n\", '').replace('’', \"'\")\n",
    "            if float(new_com['note']) <= float(note):\n",
    "                commentaires.append(new_com)\n",
    "\n",
    "        #permet de stopper le scrapping sans préciser le nombre de page dans la fonction 'web_scrapping'\n",
    "        stop = soup.find('span', {\"class\": \"button button-md button-primary-full button-right button-disabled\"})\n",
    "        if stop:\n",
    "            break\n",
    "    return commentaires"
   ]
  },
  {
   "cell_type": "code",
   "execution_count": 20,
   "metadata": {},
   "outputs": [
    {
     "data": {
      "text/plain": [
       "8036"
      ]
     },
     "execution_count": 20,
     "metadata": {},
     "output_type": "execute_result"
    }
   ],
   "source": [
    "film_com = web_scrapping(53716, 3)\n",
    "len(film_com)\n",
    "data_com += film_com\n",
    "len(data_com)"
   ]
  },
  {
   "attachments": {},
   "cell_type": "markdown",
   "metadata": {},
   "source": [
    "## Création d'un dataframe de commentaires"
   ]
  },
  {
   "cell_type": "code",
   "execution_count": 21,
   "metadata": {},
   "outputs": [
    {
     "name": "stdout",
     "output_type": "stream",
     "text": [
      "<class 'pandas.core.frame.DataFrame'>\n",
      "RangeIndex: 8036 entries, 0 to 8035\n",
      "Data columns (total 2 columns):\n",
      " #   Column       Non-Null Count  Dtype \n",
      "---  ------       --------------  ----- \n",
      " 0   note         8036 non-null   object\n",
      " 1   commentaire  8036 non-null   object\n",
      "dtypes: object(2)\n",
      "memory usage: 125.7+ KB\n"
     ]
    }
   ],
   "source": [
    "df=pd.DataFrame(data_com, columns=['note', 'commentaire'])\n",
    "df.info()"
   ]
  },
  {
   "cell_type": "code",
   "execution_count": 22,
   "metadata": {},
   "outputs": [],
   "source": [
    "df.to_csv('data_com2.csv', index=False, encoding='utf-8')"
   ]
  },
  {
   "cell_type": "code",
   "execution_count": 23,
   "metadata": {},
   "outputs": [
    {
     "data": {
      "text/html": [
       "<div>\n",
       "<style scoped>\n",
       "    .dataframe tbody tr th:only-of-type {\n",
       "        vertical-align: middle;\n",
       "    }\n",
       "\n",
       "    .dataframe tbody tr th {\n",
       "        vertical-align: top;\n",
       "    }\n",
       "\n",
       "    .dataframe thead th {\n",
       "        text-align: right;\n",
       "    }\n",
       "</style>\n",
       "<table border=\"1\" class=\"dataframe\">\n",
       "  <thead>\n",
       "    <tr style=\"text-align: right;\">\n",
       "      <th></th>\n",
       "      <th>note</th>\n",
       "      <th>commentaire</th>\n",
       "    </tr>\n",
       "  </thead>\n",
       "  <tbody>\n",
       "    <tr>\n",
       "      <th>0</th>\n",
       "      <td>4.0</td>\n",
       "      <td>une bonne suite pour les aventures de sonic au...</td>\n",
       "    </tr>\n",
       "    <tr>\n",
       "      <th>1</th>\n",
       "      <td>5.0</td>\n",
       "      <td>Cette suite de sonic est incroyable !Le fan qu...</td>\n",
       "    </tr>\n",
       "    <tr>\n",
       "      <th>2</th>\n",
       "      <td>4.5</td>\n",
       "      <td>Très bon film ont retrouve ce qui fait l'espri...</td>\n",
       "    </tr>\n",
       "    <tr>\n",
       "      <th>3</th>\n",
       "      <td>4.0</td>\n",
       "      <td>Super film de ouf, le fait que Knuckles soit d...</td>\n",
       "    </tr>\n",
       "    <tr>\n",
       "      <th>4</th>\n",
       "      <td>3.0</td>\n",
       "      <td>Malgré deux nouveaux personnages de l'univers ...</td>\n",
       "    </tr>\n",
       "  </tbody>\n",
       "</table>\n",
       "</div>"
      ],
      "text/plain": [
       "   note                                        commentaire\n",
       "0   4.0  une bonne suite pour les aventures de sonic au...\n",
       "1   5.0  Cette suite de sonic est incroyable !Le fan qu...\n",
       "2   4.5  Très bon film ont retrouve ce qui fait l'espri...\n",
       "3   4.0  Super film de ouf, le fait que Knuckles soit d...\n",
       "4   3.0  Malgré deux nouveaux personnages de l'univers ..."
      ]
     },
     "execution_count": 23,
     "metadata": {},
     "output_type": "execute_result"
    }
   ],
   "source": [
    "empdata = pd.read_csv('data_com2.csv', index_col=False, delimiter = ',')\n",
    "empdata.head()"
   ]
  },
  {
   "cell_type": "code",
   "execution_count": 24,
   "metadata": {},
   "outputs": [
    {
     "name": "stdout",
     "output_type": "stream",
     "text": [
      "<class 'pandas.core.frame.DataFrame'>\n",
      "RangeIndex: 8036 entries, 0 to 8035\n",
      "Data columns (total 2 columns):\n",
      " #   Column       Non-Null Count  Dtype  \n",
      "---  ------       --------------  -----  \n",
      " 0   note         8036 non-null   float64\n",
      " 1   commentaire  8034 non-null   object \n",
      "dtypes: float64(1), object(1)\n",
      "memory usage: 125.7+ KB\n"
     ]
    }
   ],
   "source": [
    "empdata.info()"
   ]
  }
 ],
 "metadata": {
  "kernelspec": {
   "display_name": ".venv",
   "language": "python",
   "name": "python3"
  },
  "language_info": {
   "codemirror_mode": {
    "name": "ipython",
    "version": 3
   },
   "file_extension": ".py",
   "mimetype": "text/x-python",
   "name": "python",
   "nbconvert_exporter": "python",
   "pygments_lexer": "ipython3",
   "version": "3.10.9 (tags/v3.10.9:1dd9be6, Dec  6 2022, 20:01:21) [MSC v.1934 64 bit (AMD64)]"
  },
  "orig_nbformat": 4,
  "vscode": {
   "interpreter": {
    "hash": "f394ba83058c5a142df3c7e87c8296842715c2e07fd446e3acfd6cb9b123e2dc"
   }
  }
 },
 "nbformat": 4,
 "nbformat_minor": 2
}
